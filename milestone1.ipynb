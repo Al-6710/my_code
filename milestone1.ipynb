{
  "nbformat": 4,
  "nbformat_minor": 0,
  "metadata": {
    "colab": {
      "name": "milestone1.ipynb",
      "provenance": [],
      "collapsed_sections": []
    },
    "kernelspec": {
      "name": "python3",
      "display_name": "Python 3"
    }
  },
  "cells": [
    {
      "cell_type": "markdown",
      "metadata": {
        "id": "ANr9vZNvSdqB",
        "colab_type": "text"
      },
      "source": [
        "## Setting up the Google Colab Notebook"
      ]
    },
    {
      "cell_type": "code",
      "metadata": {
        "id": "tDooVdrCBifl",
        "colab_type": "code",
        "colab": {
          "base_uri": "https://localhost:8080/",
          "height": 85
        },
        "outputId": "2de28ec4-34ec-4694-8aa7-ec30044b2cfe"
      },
      "source": [
        "import numpy as np\n",
        "import pandas as pd\n",
        "import matplotlib\n",
        "import matplotlib.pyplot as plt\n",
        "import tensorflow as tf\n",
        "\n",
        "print(np.__version__)\n",
        "print(pd.__version__)\n",
        "print(matplotlib.__version__)\n",
        "print(tf.__version__)"
      ],
      "execution_count": null,
      "outputs": [
        {
          "output_type": "stream",
          "text": [
            "1.18.5\n",
            "1.0.5\n",
            "3.2.2\n",
            "2.2.0\n"
          ],
          "name": "stdout"
        }
      ]
    },
    {
      "cell_type": "markdown",
      "metadata": {
        "id": "FJ6nNPHgSSO8",
        "colab_type": "text"
      },
      "source": [
        "### Manipulating Data with pandas"
      ]
    },
    {
      "cell_type": "code",
      "metadata": {
        "id": "WtPiVWUFLPAZ",
        "colab_type": "code",
        "colab": {
          "base_uri": "https://localhost:8080/",
          "height": 238
        },
        "outputId": "87dfa598-7bf9-4b0f-f79f-b0db9c77f678"
      },
      "source": [
        "import datetime as dt\n",
        "\n",
        "# 1. create a dataframe\n",
        "df = pd.DataFrame()\n",
        "\n",
        "# 2. Fill the first column with the first day of each month for 3 years \n",
        "dates = []\n",
        "years = [2018,2019,2020]\n",
        "months = [1,2,3,4,5,6,7,8,9,10,11,12]\n",
        "\n",
        "for y in years:\n",
        "    for m in months:\n",
        "        dates.append(dt.date(y,m,1))\n",
        "dates =  pd.to_datetime(dates)\n",
        "\n",
        "df['Date'] = dates\n",
        "\n",
        "# 3. Fill the next 2 columns with random numbers.\n",
        "n = len(dates)\n",
        "df['X'] = np.random.uniform(size=n)\n",
        "df['Y'] = np.random.uniform(size=n)\n",
        "\n",
        "# 4. Fill the 4th column with the difference of the first 2 data columns (for example: Col3 - Col2).\n",
        "df['Z'] = df.Y - df.X\n",
        "\n",
        "# 5. Break the DataFrame into 3 different DataFrames based on the dates (for example: 2018, 2019, 2020)\n",
        "yr_idx = pd.DatetimeIndex(df['Date']).year\n",
        "\n",
        "gd = list(df.groupby(yr_idx))\n",
        "\n",
        "df_2018 = gd[0][1]\n",
        "df_2019 = gd[1][1]\n",
        "df_2020 = gd[2][1]\n",
        "print(df_2020)"
      ],
      "execution_count": null,
      "outputs": [
        {
          "output_type": "stream",
          "text": [
            "         Date         X         Y         Z\n",
            "24 2020-01-01  0.924418  0.160035 -0.764383\n",
            "25 2020-02-01  0.673933  0.826578  0.152645\n",
            "26 2020-03-01  0.994815  0.332702 -0.662113\n",
            "27 2020-04-01  0.479505  0.546697  0.067192\n",
            "28 2020-05-01  0.159137  0.830711  0.671573\n",
            "29 2020-06-01  0.952283  0.969067  0.016784\n",
            "30 2020-07-01  0.166070  0.327535  0.161465\n",
            "31 2020-08-01  0.369285  0.088374 -0.280911\n",
            "32 2020-09-01  0.934560  0.963489  0.028929\n",
            "33 2020-10-01  0.081641  0.989303  0.907662\n",
            "34 2020-11-01  0.453962  0.919077  0.465115\n",
            "35 2020-12-01  0.887291  0.850486 -0.036805\n"
          ],
          "name": "stdout"
        }
      ]
    },
    {
      "cell_type": "markdown",
      "metadata": {
        "id": "lHLmJadpSyDB",
        "colab_type": "text"
      },
      "source": [
        "### Create a Neural Network that can Convert Celsius to Fahrenheit"
      ]
    },
    {
      "cell_type": "code",
      "metadata": {
        "id": "3tSNlXpgLlnQ",
        "colab_type": "code",
        "colab": {
          "base_uri": "https://localhost:8080/",
          "height": 282
        },
        "outputId": "bc81c65e-71c0-4e32-b328-d90e82a04590"
      },
      "source": [
        "# generate data\n",
        "α = 9/5\n",
        "β = 32.0\n",
        "N = 25 # no. of data points\n",
        "np.random.seed(43)\n",
        "C = np.random.uniform(0, 100, N)\n",
        "C = np.sort(C)\n",
        "noise = np.random.normal(0, 5, N)\n",
        "\n",
        "F = α * C + β + noise\n",
        "\n",
        "plt.scatter(C, F)"
      ],
      "execution_count": null,
      "outputs": [
        {
          "output_type": "execute_result",
          "data": {
            "text/plain": [
              "<matplotlib.collections.PathCollection at 0x7f75846e7dd8>"
            ]
          },
          "metadata": {
            "tags": []
          },
          "execution_count": 49
        },
        {
          "output_type": "display_data",
          "data": {
            "image/png": "[encoded data removed]",
            "text/plain": [
              "<Figure size 432x288 with 1 Axes>"
            ]
          },
          "metadata": {
            "tags": [],
            "needs_background": "light"
          }
        }
      ]
    },
    {
      "cell_type": "code",
      "metadata": {
        "id": "JJa_nfGPS92g",
        "colab_type": "code",
        "colab": {
          "base_uri": "https://localhost:8080/",
          "height": 34
        },
        "outputId": "f48ab022-864d-4d38-aeba-943581ec60be"
      },
      "source": [
        "model = tf.keras.Sequential([\n",
        "    tf.keras.layers.Dense(30, activation=tf.nn.relu, input_shape=[1]),  # input layer\n",
        "    tf.keras.layers.Dense(1)                                            # single output neuron\n",
        "  ])\n",
        "\n",
        "optimizer = tf.keras.optimizers.RMSprop(0.001)\n",
        "\n",
        "model.compile(loss='mean_squared_error',\n",
        "              optimizer=optimizer,\n",
        "              metrics=['mean_absolute_error', 'mean_squared_error'])\n",
        "\n",
        "model.fit(C, F, epochs=5000, verbose=0)"
      ],
      "execution_count": null,
      "outputs": [
        {
          "output_type": "execute_result",
          "data": {
            "text/plain": [
              "<tensorflow.python.keras.callbacks.History at 0x7f75844631d0>"
            ]
          },
          "metadata": {
            "tags": []
          },
          "execution_count": 50
        }
      ]
    },
    {
      "cell_type": "markdown",
      "metadata": {
        "id": "R8F5D6zYdELi",
        "colab_type": "text"
      },
      "source": [
        "## Analyse Results"
      ]
    },
    {
      "cell_type": "code",
      "metadata": {
        "id": "pSh8a0SiYLx0",
        "colab_type": "code",
        "colab": {
          "base_uri": "https://localhost:8080/",
          "height": 459
        },
        "outputId": "cc2a4fba-aa7c-46ab-ffab-e9ec6df2c71e"
      },
      "source": [
        "F_pred = model.predict(C)  # get predicted F given C values\n",
        "results = pd.DataFrame(np.c_[C, F, F_pred], columns=['C','F','F_pred'])\n",
        "print(results)"
      ],
      "execution_count": null,
      "outputs": [
        {
          "output_type": "stream",
          "text": [
            "            C           F      F_pred\n",
            "0    2.901382   34.237166   35.594398\n",
            "1    5.688494   43.452900   43.231720\n",
            "2    7.666270   44.259342   46.774303\n",
            "3   11.505457   55.737150   53.651043\n",
            "4   13.339096   48.534879   56.935444\n",
            "5   22.102900   85.019321   72.633125\n",
            "6   24.058962   76.017755   76.136826\n",
            "7   25.442113   77.998743   78.614304\n",
            "8   31.609647   84.098665   89.661575\n",
            "9   32.713906   91.191091   91.639511\n",
            "10  38.537691  106.570151  102.071045\n",
            "11  39.495002  101.836137  103.785789\n",
            "12  40.498945  110.400469  105.584030\n",
            "13  44.575836  119.592773  112.886551\n",
            "14  54.116221  132.056148  129.975250\n",
            "15  60.906654  140.134589  142.138245\n",
            "16  66.609021  149.740160  152.352295\n",
            "17  73.374830  157.463817  164.471191\n",
            "18  80.204712  186.339966  176.704849\n",
            "19  84.322469  174.749936  184.080551\n",
            "20  84.893915  192.704073  185.104111\n",
            "21  85.913749  183.558064  186.930817\n",
            "22  86.664864  196.282601  188.276245\n",
            "23  95.448813  198.898884  204.026840\n",
            "24  97.146509  210.996311  207.112366\n"
          ],
          "name": "stdout"
        }
      ]
    },
    {
      "cell_type": "markdown",
      "metadata": {
        "id": "xzb4PSGYdTxK",
        "colab_type": "text"
      },
      "source": [
        "## Plot results"
      ]
    },
    {
      "cell_type": "code",
      "metadata": {
        "id": "MDKS6TTzYTfp",
        "colab_type": "code",
        "colab": {
          "base_uri": "https://localhost:8080/",
          "height": 299
        },
        "outputId": "8d47b3f9-c43d-4b81-d5b7-bd59ecfbfdd5"
      },
      "source": [
        "plt.plot(C, F, 'b.', C, F_pred, 'r-')"
      ],
      "execution_count": null,
      "outputs": [
        {
          "output_type": "execute_result",
          "data": {
            "text/plain": [
              "[<matplotlib.lines.Line2D at 0x7f7576f23f98>,\n",
              " <matplotlib.lines.Line2D at 0x7f7576f30128>]"
            ]
          },
          "metadata": {
            "tags": []
          },
          "execution_count": 65
        },
        {
          "output_type": "display_data",
          "data": {
            "image/png": "[encoded data removed]",
            "text/plain": [
              "<Figure size 432x288 with 1 Axes>"
            ]
          },
          "metadata": {
            "tags": [],
            "needs_background": "light"
          }
        }
      ]
    }
  ]
}