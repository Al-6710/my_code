{
  "nbformat": 4,
  "nbformat_minor": 0,
  "metadata": {
    "colab": {
      "name": "milestone2.ipynb",
      "provenance": [],
      "collapsed_sections": []
    },
    "kernelspec": {
      "name": "python3",
      "display_name": "Python 3"
    }
  },
  "cells": [
    {
      "cell_type": "code",
      "metadata": {
        "id": "NzJtZWr9tMAt",
        "colab_type": "code",
        "colab": {
          "base_uri": "https://localhost:8080/",
          "height": 51
        },
        "outputId": "bed8988b-7775-4765-c7c0-ee0ec9779a11"
      },
      "source": [
        "import numpy as np\n",
        "import pandas as pd\n",
        "\n",
        "print(np.__version__)\n",
        "print(pd.__version__)"
      ],
      "execution_count": 102,
      "outputs": [
        {
          "output_type": "stream",
          "text": [
            "1.18.5\n",
            "1.0.5\n"
          ],
          "name": "stdout"
        }
      ]
    },
    {
      "cell_type": "markdown",
      "metadata": {
        "id": "GzehdAaiHUOC",
        "colab_type": "text"
      },
      "source": [
        "###1. Take the Teams and Games CSV files and load them into their own DataFrames."
      ]
    },
    {
      "cell_type": "code",
      "metadata": {
        "id": "9etj1QBNt4vO",
        "colab_type": "code",
        "colab": {}
      },
      "source": [
        "games = pd.read_csv('Games.csv', names=['Date', 'TeamH', 'ScoreH', 'TeamA', 'ScoreA'])"
      ],
      "execution_count": 103,
      "outputs": []
    },
    {
      "cell_type": "code",
      "metadata": {
        "id": "geguyrBl6qyx",
        "colab_type": "code",
        "colab": {
          "base_uri": "https://localhost:8080/",
          "height": 297
        },
        "outputId": "2fad3762-de0e-4580-aa5a-775672b3f990"
      },
      "source": [
        "games.head(8)"
      ],
      "execution_count": null,
      "outputs": [
        {
          "output_type": "execute_result",
          "data": {
            "text/html": [
              "<div>\n",
              "<style scoped>\n",
              "    .dataframe tbody tr th:only-of-type {\n",
              "        vertical-align: middle;\n",
              "    }\n",
              "\n",
              "    .dataframe tbody tr th {\n",
              "        vertical-align: top;\n",
              "    }\n",
              "\n",
              "    .dataframe thead th {\n",
              "        text-align: right;\n",
              "    }\n",
              "</style>\n",
              "<table border=\"1\" class=\"dataframe\">\n",
              "  <thead>\n",
              "    <tr style=\"text-align: right;\">\n",
              "      <th></th>\n",
              "      <th>Date</th>\n",
              "      <th>TeamH</th>\n",
              "      <th>ScoreH</th>\n",
              "      <th>TeamA</th>\n",
              "      <th>ScoreA</th>\n",
              "    </tr>\n",
              "  </thead>\n",
              "  <tbody>\n",
              "    <tr>\n",
              "      <th>0</th>\n",
              "      <td>13/11/2015</td>\n",
              "      <td>Hawaii</td>\n",
              "      <td>87</td>\n",
              "      <td>Montana St.</td>\n",
              "      <td>76</td>\n",
              "    </tr>\n",
              "    <tr>\n",
              "      <th>1</th>\n",
              "      <td>13/11/2015</td>\n",
              "      <td>Eastern Mich.</td>\n",
              "      <td>70</td>\n",
              "      <td>Vermont</td>\n",
              "      <td>50</td>\n",
              "    </tr>\n",
              "    <tr>\n",
              "      <th>2</th>\n",
              "      <td>13/11/2015</td>\n",
              "      <td>Columbia</td>\n",
              "      <td>107</td>\n",
              "      <td>Kean</td>\n",
              "      <td>62</td>\n",
              "    </tr>\n",
              "    <tr>\n",
              "      <th>3</th>\n",
              "      <td>13/11/2015</td>\n",
              "      <td>La.-Monroe</td>\n",
              "      <td>88</td>\n",
              "      <td>McMurry</td>\n",
              "      <td>43</td>\n",
              "    </tr>\n",
              "    <tr>\n",
              "      <th>4</th>\n",
              "      <td>13/11/2015</td>\n",
              "      <td>Yale</td>\n",
              "      <td>70</td>\n",
              "      <td>Fairfield</td>\n",
              "      <td>57</td>\n",
              "    </tr>\n",
              "    <tr>\n",
              "      <th>5</th>\n",
              "      <td>13/11/2015</td>\n",
              "      <td>North Dakota</td>\n",
              "      <td>99</td>\n",
              "      <td>Minn.-Morris</td>\n",
              "      <td>69</td>\n",
              "    </tr>\n",
              "    <tr>\n",
              "      <th>6</th>\n",
              "      <td>13/11/2015</td>\n",
              "      <td>Central Mich.</td>\n",
              "      <td>89</td>\n",
              "      <td>Jacksonville St.</td>\n",
              "      <td>83</td>\n",
              "    </tr>\n",
              "    <tr>\n",
              "      <th>7</th>\n",
              "      <td>13/11/2015</td>\n",
              "      <td>Army</td>\n",
              "      <td>93</td>\n",
              "      <td>Ferrum</td>\n",
              "      <td>54</td>\n",
              "    </tr>\n",
              "  </tbody>\n",
              "</table>\n",
              "</div>"
            ],
            "text/plain": [
              "         Date          TeamH  ScoreH             TeamA  ScoreA\n",
              "0  13/11/2015         Hawaii      87       Montana St.      76\n",
              "1  13/11/2015  Eastern Mich.      70           Vermont      50\n",
              "2  13/11/2015       Columbia     107              Kean      62\n",
              "3  13/11/2015     La.-Monroe      88           McMurry      43\n",
              "4  13/11/2015           Yale      70         Fairfield      57\n",
              "5  13/11/2015   North Dakota      99      Minn.-Morris      69\n",
              "6  13/11/2015  Central Mich.      89  Jacksonville St.      83\n",
              "7  13/11/2015           Army      93            Ferrum      54"
            ]
          },
          "metadata": {
            "tags": []
          },
          "execution_count": 67
        }
      ]
    },
    {
      "cell_type": "code",
      "metadata": {
        "id": "YripI93xAxZZ",
        "colab_type": "code",
        "colab": {}
      },
      "source": [
        "teams = pd.read_csv('Teams.csv', names=['Region','Team'])"
      ],
      "execution_count": 104,
      "outputs": []
    },
    {
      "cell_type": "code",
      "metadata": {
        "id": "EVXFO7Z6BDXn",
        "colab_type": "code",
        "colab": {
          "base_uri": "https://localhost:8080/",
          "height": 235
        },
        "outputId": "57241799-cdca-4dc7-fa30-1fc626aec8bc"
      },
      "source": [
        "teams.head(6)"
      ],
      "execution_count": null,
      "outputs": [
        {
          "output_type": "execute_result",
          "data": {
            "text/html": [
              "<div>\n",
              "<style scoped>\n",
              "    .dataframe tbody tr th:only-of-type {\n",
              "        vertical-align: middle;\n",
              "    }\n",
              "\n",
              "    .dataframe tbody tr th {\n",
              "        vertical-align: top;\n",
              "    }\n",
              "\n",
              "    .dataframe thead th {\n",
              "        text-align: right;\n",
              "    }\n",
              "</style>\n",
              "<table border=\"1\" class=\"dataframe\">\n",
              "  <thead>\n",
              "    <tr style=\"text-align: right;\">\n",
              "      <th></th>\n",
              "      <th>Region</th>\n",
              "      <th>Team</th>\n",
              "    </tr>\n",
              "  </thead>\n",
              "  <tbody>\n",
              "    <tr>\n",
              "      <th>0</th>\n",
              "      <td>America East</td>\n",
              "      <td>Vermont</td>\n",
              "    </tr>\n",
              "    <tr>\n",
              "      <th>1</th>\n",
              "      <td>America East</td>\n",
              "      <td>Stony Brook</td>\n",
              "    </tr>\n",
              "    <tr>\n",
              "      <th>2</th>\n",
              "      <td>America East</td>\n",
              "      <td>UMBC</td>\n",
              "    </tr>\n",
              "    <tr>\n",
              "      <th>3</th>\n",
              "      <td>America East</td>\n",
              "      <td>Hartford</td>\n",
              "    </tr>\n",
              "    <tr>\n",
              "      <th>4</th>\n",
              "      <td>America East</td>\n",
              "      <td>Albany</td>\n",
              "    </tr>\n",
              "    <tr>\n",
              "      <th>5</th>\n",
              "      <td>America East</td>\n",
              "      <td>Massachusetts-Lowell</td>\n",
              "    </tr>\n",
              "  </tbody>\n",
              "</table>\n",
              "</div>"
            ],
            "text/plain": [
              "         Region                  Team\n",
              "0  America East               Vermont\n",
              "1  America East           Stony Brook\n",
              "2  America East                  UMBC\n",
              "3  America East              Hartford\n",
              "4  America East                Albany\n",
              "5  America East  Massachusetts-Lowell"
            ]
          },
          "metadata": {
            "tags": []
          },
          "execution_count": 69
        }
      ]
    },
    {
      "cell_type": "markdown",
      "metadata": {
        "id": "l2FYfEGQHrCv",
        "colab_type": "text"
      },
      "source": [
        "### 2. Clean the data: "
      ]
    },
    {
      "cell_type": "code",
      "metadata": {
        "id": "T1wkRTR4BHZV",
        "colab_type": "code",
        "colab": {
          "base_uri": "https://localhost:8080/",
          "height": 323
        },
        "outputId": "54530875-b5ae-4050-f5a8-933be809868f"
      },
      "source": [
        "# ensure that all of the team names match between the Teams and Games DataFrames\n",
        "print(teams[teams.Team.str.startswith('St ')].Team)\n",
        "print(teams[teams.Team.str.endswith(' State')].Team)\n",
        "\n",
        "games.TeamH.replace(' St.', ' State', inplace=True)\n",
        "games.TeamA.replace(' St.', ' State', inplace=True)"
      ],
      "execution_count": 106,
      "outputs": [
        {
          "output_type": "stream",
          "text": [
            "24       St Bonaventure\n",
            "71            St John's\n",
            "176          St Peter's\n",
            "223     St Francis (PA)\n",
            "227    St Francis (BKN)\n",
            "Name: Team, dtype: object\n",
            "14            Wichita State\n",
            "38            Florida State\n",
            "43     North Carolina State\n",
            "58           Kennesaw State\n",
            "60             Kansas State\n",
            "               ...         \n",
            "324           Georgia State\n",
            "330          Arkansas State\n",
            "331       Appalachian State\n",
            "344        New Mexico State\n",
            "352           Chicago State\n",
            "Name: Team, Length: 64, dtype: object\n"
          ],
          "name": "stdout"
        }
      ]
    },
    {
      "cell_type": "code",
      "metadata": {
        "id": "Oayb-chMIQ8P",
        "colab_type": "code",
        "colab": {
          "base_uri": "https://localhost:8080/",
          "height": 51
        },
        "outputId": "239c8861-12b4-46cd-8eff-d6d3108009a9"
      },
      "source": [
        "mask = ['State' in name[-5:] for name in games.TeamH.unique()]\n",
        "games_StateH = games.TeamH.unique()[mask]\n",
        "print(len(games_StateH))\n",
        "\n",
        "mask = ['State' in name[-5:] for name in games.TeamA.unique()]\n",
        "games_StateA = games.TeamA.unique()[mask]\n",
        "print(len(games_StateA))"
      ],
      "execution_count": 107,
      "outputs": [
        {
          "output_type": "stream",
          "text": [
            "39\n",
            "49\n"
          ],
          "name": "stdout"
        }
      ]
    },
    {
      "cell_type": "code",
      "metadata": {
        "id": "ZkG-bBVrIdFP",
        "colab_type": "code",
        "colab": {
          "base_uri": "https://localhost:8080/",
          "height": 221
        },
        "outputId": "6dcbae9c-a872-4fd6-c86c-bf285144837c"
      },
      "source": [
        "# only teams (from teams.Teams) can play each other at any given date\n",
        "df = games.loc[(games.TeamH.isin(teams.Team)) & (games.TeamA.isin(teams.Team))]\n",
        "df.info()"
      ],
      "execution_count": 108,
      "outputs": [
        {
          "output_type": "stream",
          "text": [
            "<class 'pandas.core.frame.DataFrame'>\n",
            "Int64Index: 9300 entries, 4 to 23492\n",
            "Data columns (total 5 columns):\n",
            " #   Column  Non-Null Count  Dtype \n",
            "---  ------  --------------  ----- \n",
            " 0   Date    9300 non-null   object\n",
            " 1   TeamH   9300 non-null   object\n",
            " 2   ScoreH  9300 non-null   int64 \n",
            " 3   TeamA   9300 non-null   object\n",
            " 4   ScoreA  9300 non-null   int64 \n",
            "dtypes: int64(2), object(3)\n",
            "memory usage: 435.9+ KB\n"
          ],
          "name": "stdout"
        }
      ]
    },
    {
      "cell_type": "code",
      "metadata": {
        "id": "RldIHdzgIf5n",
        "colab_type": "code",
        "colab": {
          "base_uri": "https://localhost:8080/",
          "height": 34
        },
        "outputId": "7868a593-1cb9-4f32-e7d1-4b36901d8402"
      },
      "source": [
        "# check for both zero score entries\n",
        "print(len(df[(df.ScoreH == 0) & (df.ScoreA == 0)]))\n",
        "\n",
        "# remove them\n",
        "df = df.drop(df[(df.ScoreH == 0) & (df.ScoreA == 0)].index)"
      ],
      "execution_count": 109,
      "outputs": [
        {
          "output_type": "stream",
          "text": [
            "79\n"
          ],
          "name": "stdout"
        }
      ]
    },
    {
      "cell_type": "code",
      "metadata": {
        "id": "vlb1yJDCJHq4",
        "colab_type": "code",
        "colab": {
          "base_uri": "https://localhost:8080/",
          "height": 255
        },
        "outputId": "6d20ac11-2cf6-4045-9863-bd6da817fbb9"
      },
      "source": [
        "print(df.TeamH.nunique())\n",
        "print(df.TeamA.nunique())\n",
        "df.info()"
      ],
      "execution_count": 110,
      "outputs": [
        {
          "output_type": "stream",
          "text": [
            "263\n",
            "263\n",
            "<class 'pandas.core.frame.DataFrame'>\n",
            "Int64Index: 9221 entries, 4 to 23492\n",
            "Data columns (total 5 columns):\n",
            " #   Column  Non-Null Count  Dtype \n",
            "---  ------  --------------  ----- \n",
            " 0   Date    9221 non-null   object\n",
            " 1   TeamH   9221 non-null   object\n",
            " 2   ScoreH  9221 non-null   int64 \n",
            " 3   TeamA   9221 non-null   object\n",
            " 4   ScoreA  9221 non-null   int64 \n",
            "dtypes: int64(2), object(3)\n",
            "memory usage: 432.2+ KB\n"
          ],
          "name": "stdout"
        }
      ]
    },
    {
      "cell_type": "markdown",
      "metadata": {
        "id": "jEnXWKwuJdxg",
        "colab_type": "text"
      },
      "source": [
        "### 3. Prepare the data for processing by creating columns that we can train against."
      ]
    },
    {
      "cell_type": "code",
      "metadata": {
        "id": "Ska6FcLEJUYh",
        "colab_type": "code",
        "colab": {
          "base_uri": "https://localhost:8080/",
          "height": 34
        },
        "outputId": "f8ce83ec-9255-4adc-8969-4f6d7d18e28b"
      },
      "source": [
        "df_mod = df.copy()\n",
        "\n",
        "# Are there any draws?\n",
        "print(len(df_mod[df_mod.ScoreH == df_mod.ScoreA]))"
      ],
      "execution_count": 111,
      "outputs": [
        {
          "output_type": "stream",
          "text": [
            "0\n"
          ],
          "name": "stdout"
        }
      ]
    },
    {
      "cell_type": "code",
      "metadata": {
        "id": "dLL1WlrOJ4cS",
        "colab_type": "code",
        "colab": {}
      },
      "source": [
        "# Home wins and away wins \n",
        "df_mod['WinH'] = 0\n",
        "df_mod.loc[df_mod.ScoreH > df_mod.ScoreA, 'WinH'] = 1\n",
        "df_mod['WinA'] = 0\n",
        "df_mod.loc[df_mod.ScoreA > df_mod.ScoreH, 'WinA'] = 1"
      ],
      "execution_count": 112,
      "outputs": []
    },
    {
      "cell_type": "code",
      "metadata": {
        "id": "CqecOtpqTuOC",
        "colab_type": "code",
        "colab": {}
      },
      "source": [
        "# analyse home game results\n",
        "dfH = pd.DataFrame(columns=['team', 'playedH', 'totalH', 'totalA', 'diffH', 'totWinH', 'avgH'])\n",
        "i = 0\n",
        "for team in np.unique(df_mod.TeamH):\n",
        "    tgH = df_mod.loc[df_mod.TeamH == team, ['ScoreH', 'ScoreA', 'WinH']]\n",
        "    playedH = len(tgH)\n",
        "    totalH = tgH.ScoreH.sum()\n",
        "    totalA = tgH.ScoreA.sum()\n",
        "    totWinH = tgH.WinH.sum()\n",
        "    diffH = totalH - totalA\n",
        "    avgH = round(diffH/playedH, 2)\n",
        "    dfH.loc[i] = [team, playedH, totalH, totalA, diffH, totWinH, avgH]\n",
        "    i += 1"
      ],
      "execution_count": 114,
      "outputs": []
    },
    {
      "cell_type": "code",
      "metadata": {
        "id": "p1NjGxTQTy3i",
        "colab_type": "code",
        "colab": {}
      },
      "source": [
        "# analyse away game results\n",
        "dfA = pd.DataFrame(columns=['team', 'playedA', 'totA', 'totH', 'diffA', 'totWinA', 'avgA'])\n",
        "i = 0\n",
        "for team in np.unique(df_mod.TeamA):\n",
        "    tgA = df_mod.loc[df_mod.TeamA == team, ['ScoreH', 'ScoreA', 'WinA' ]]\n",
        "    playedA = len(tgA)\n",
        "    totA = tgA.ScoreA.sum()\n",
        "    totH = tgA.ScoreH.sum()\n",
        "    totWinA = tgA.WinA.sum()\n",
        "    diffA = totA - totH\n",
        "    avgA = round(diffA/playedA, 2)\n",
        "    dfA.loc[i] = [team, playedA, totA, totH, diffA, totWinA, avgA]\n",
        "    i += 1"
      ],
      "execution_count": 115,
      "outputs": []
    },
    {
      "cell_type": "markdown",
      "metadata": {
        "id": "9zBQ_zaobPyS",
        "colab_type": "text"
      },
      "source": [
        ""
      ]
    },
    {
      "cell_type": "code",
      "metadata": {
        "id": "C1cX__ZaT3cy",
        "colab_type": "code",
        "colab": {
          "base_uri": "https://localhost:8080/",
          "height": 359
        },
        "outputId": "45142342-1163-4bfe-ce72-8926285225b3"
      },
      "source": [
        "# combine each team's home and away game stats\n",
        "dfHA = dfH.merge(dfA, how='inner', on='team')\n",
        "# list top 10\n",
        "dfHA.sort_values(by=['totWinH', 'avgH', 'totWinA', 'avgA'], ascending=False).head(10)"
      ],
      "execution_count": 116,
      "outputs": [
        {
          "output_type": "execute_result",
          "data": {
            "text/html": [
              "<div>\n",
              "<style scoped>\n",
              "    .dataframe tbody tr th:only-of-type {\n",
              "        vertical-align: middle;\n",
              "    }\n",
              "\n",
              "    .dataframe tbody tr th {\n",
              "        vertical-align: top;\n",
              "    }\n",
              "\n",
              "    .dataframe thead th {\n",
              "        text-align: right;\n",
              "    }\n",
              "</style>\n",
              "<table border=\"1\" class=\"dataframe\">\n",
              "  <thead>\n",
              "    <tr style=\"text-align: right;\">\n",
              "      <th></th>\n",
              "      <th>team</th>\n",
              "      <th>playedH</th>\n",
              "      <th>totalH</th>\n",
              "      <th>totalA</th>\n",
              "      <th>diffH</th>\n",
              "      <th>totWinH</th>\n",
              "      <th>avgH</th>\n",
              "      <th>playedA</th>\n",
              "      <th>totA</th>\n",
              "      <th>totH</th>\n",
              "      <th>diffA</th>\n",
              "      <th>totWinA</th>\n",
              "      <th>avgA</th>\n",
              "    </tr>\n",
              "  </thead>\n",
              "  <tbody>\n",
              "    <tr>\n",
              "      <th>246</th>\n",
              "      <td>Villanova</td>\n",
              "      <td>67</td>\n",
              "      <td>5324</td>\n",
              "      <td>4341</td>\n",
              "      <td>983</td>\n",
              "      <td>61</td>\n",
              "      <td>14.67</td>\n",
              "      <td>45</td>\n",
              "      <td>3506</td>\n",
              "      <td>3162</td>\n",
              "      <td>344</td>\n",
              "      <td>33</td>\n",
              "      <td>7.64</td>\n",
              "    </tr>\n",
              "    <tr>\n",
              "      <th>105</th>\n",
              "      <td>Kansas</td>\n",
              "      <td>62</td>\n",
              "      <td>5066</td>\n",
              "      <td>4233</td>\n",
              "      <td>833</td>\n",
              "      <td>58</td>\n",
              "      <td>13.44</td>\n",
              "      <td>35</td>\n",
              "      <td>2616</td>\n",
              "      <td>2564</td>\n",
              "      <td>52</td>\n",
              "      <td>23</td>\n",
              "      <td>1.49</td>\n",
              "    </tr>\n",
              "    <tr>\n",
              "      <th>78</th>\n",
              "      <td>Gonzaga</td>\n",
              "      <td>60</td>\n",
              "      <td>5185</td>\n",
              "      <td>3843</td>\n",
              "      <td>1342</td>\n",
              "      <td>55</td>\n",
              "      <td>22.37</td>\n",
              "      <td>41</td>\n",
              "      <td>3484</td>\n",
              "      <td>2833</td>\n",
              "      <td>651</td>\n",
              "      <td>37</td>\n",
              "      <td>15.88</td>\n",
              "    </tr>\n",
              "    <tr>\n",
              "      <th>154</th>\n",
              "      <td>North Carolina</td>\n",
              "      <td>65</td>\n",
              "      <td>5505</td>\n",
              "      <td>4581</td>\n",
              "      <td>924</td>\n",
              "      <td>55</td>\n",
              "      <td>14.22</td>\n",
              "      <td>42</td>\n",
              "      <td>3330</td>\n",
              "      <td>3058</td>\n",
              "      <td>272</td>\n",
              "      <td>28</td>\n",
              "      <td>6.48</td>\n",
              "    </tr>\n",
              "    <tr>\n",
              "      <th>108</th>\n",
              "      <td>Kentucky</td>\n",
              "      <td>61</td>\n",
              "      <td>4994</td>\n",
              "      <td>4128</td>\n",
              "      <td>866</td>\n",
              "      <td>53</td>\n",
              "      <td>14.20</td>\n",
              "      <td>40</td>\n",
              "      <td>2998</td>\n",
              "      <td>2905</td>\n",
              "      <td>93</td>\n",
              "      <td>22</td>\n",
              "      <td>2.33</td>\n",
              "    </tr>\n",
              "    <tr>\n",
              "      <th>247</th>\n",
              "      <td>Virginia</td>\n",
              "      <td>59</td>\n",
              "      <td>4136</td>\n",
              "      <td>3267</td>\n",
              "      <td>869</td>\n",
              "      <td>52</td>\n",
              "      <td>14.73</td>\n",
              "      <td>47</td>\n",
              "      <td>3139</td>\n",
              "      <td>2742</td>\n",
              "      <td>397</td>\n",
              "      <td>33</td>\n",
              "      <td>8.45</td>\n",
              "    </tr>\n",
              "    <tr>\n",
              "      <th>56</th>\n",
              "      <td>Duke</td>\n",
              "      <td>60</td>\n",
              "      <td>4969</td>\n",
              "      <td>3954</td>\n",
              "      <td>1015</td>\n",
              "      <td>51</td>\n",
              "      <td>16.92</td>\n",
              "      <td>48</td>\n",
              "      <td>3786</td>\n",
              "      <td>3508</td>\n",
              "      <td>278</td>\n",
              "      <td>31</td>\n",
              "      <td>5.79</td>\n",
              "    </tr>\n",
              "    <tr>\n",
              "      <th>178</th>\n",
              "      <td>Purdue</td>\n",
              "      <td>57</td>\n",
              "      <td>4606</td>\n",
              "      <td>3737</td>\n",
              "      <td>869</td>\n",
              "      <td>49</td>\n",
              "      <td>15.25</td>\n",
              "      <td>41</td>\n",
              "      <td>3004</td>\n",
              "      <td>2823</td>\n",
              "      <td>181</td>\n",
              "      <td>24</td>\n",
              "      <td>4.41</td>\n",
              "    </tr>\n",
              "    <tr>\n",
              "      <th>133</th>\n",
              "      <td>Michigan</td>\n",
              "      <td>55</td>\n",
              "      <td>4012</td>\n",
              "      <td>3322</td>\n",
              "      <td>690</td>\n",
              "      <td>49</td>\n",
              "      <td>12.55</td>\n",
              "      <td>45</td>\n",
              "      <td>3214</td>\n",
              "      <td>3120</td>\n",
              "      <td>94</td>\n",
              "      <td>25</td>\n",
              "      <td>2.09</td>\n",
              "    </tr>\n",
              "    <tr>\n",
              "      <th>261</th>\n",
              "      <td>Xavier</td>\n",
              "      <td>62</td>\n",
              "      <td>4993</td>\n",
              "      <td>4487</td>\n",
              "      <td>506</td>\n",
              "      <td>49</td>\n",
              "      <td>8.16</td>\n",
              "      <td>48</td>\n",
              "      <td>3490</td>\n",
              "      <td>3530</td>\n",
              "      <td>-40</td>\n",
              "      <td>25</td>\n",
              "      <td>-0.83</td>\n",
              "    </tr>\n",
              "  </tbody>\n",
              "</table>\n",
              "</div>"
            ],
            "text/plain": [
              "               team playedH totalH totalA  ...  totH diffA  totWinA   avgA\n",
              "246       Villanova      67   5324   4341  ...  3162   344       33   7.64\n",
              "105          Kansas      62   5066   4233  ...  2564    52       23   1.49\n",
              "78          Gonzaga      60   5185   3843  ...  2833   651       37  15.88\n",
              "154  North Carolina      65   5505   4581  ...  3058   272       28   6.48\n",
              "108        Kentucky      61   4994   4128  ...  2905    93       22   2.33\n",
              "247        Virginia      59   4136   3267  ...  2742   397       33   8.45\n",
              "56             Duke      60   4969   3954  ...  3508   278       31   5.79\n",
              "178          Purdue      57   4606   3737  ...  2823   181       24   4.41\n",
              "133        Michigan      55   4012   3322  ...  3120    94       25   2.09\n",
              "261          Xavier      62   4993   4487  ...  3530   -40       25  -0.83\n",
              "\n",
              "[10 rows x 13 columns]"
            ]
          },
          "metadata": {
            "tags": []
          },
          "execution_count": 116
        }
      ]
    },
    {
      "cell_type": "markdown",
      "metadata": {
        "id": "fE-D9M_0U11P",
        "colab_type": "text"
      },
      "source": [
        "### 4. Save the output from your added columns to Games-Calculated.csv\n"
      ]
    },
    {
      "cell_type": "code",
      "metadata": {
        "id": "RT9UE84cU6_C",
        "colab_type": "code",
        "colab": {}
      },
      "source": [
        "dfHA.to_csv('Games-Calculated.csv')"
      ],
      "execution_count": 117,
      "outputs": []
    },
    {
      "cell_type": "code",
      "metadata": {
        "id": "O7teyjEJXpmu",
        "colab_type": "code",
        "colab": {}
      },
      "source": [
        ""
      ],
      "execution_count": null,
      "outputs": []
    }
  ]
}